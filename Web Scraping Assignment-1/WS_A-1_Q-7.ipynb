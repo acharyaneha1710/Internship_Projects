{
 "cells": [
  {
   "cell_type": "markdown",
   "id": "254777b9",
   "metadata": {},
   "source": [
    "# 7)\tWrite a python program to scrape mentioned news details from https://www.cnbc.com/world/?region=world :\n",
    "## i)\tHeadline\n",
    "\n",
    "## ii)\tTime\n",
    "\n",
    "## iii)News Link\n"
   ]
  },
  {
   "cell_type": "code",
   "execution_count": 7,
   "id": "d0cff2b0",
   "metadata": {},
   "outputs": [],
   "source": [
    "import requests\n",
    "from bs4 import BeautifulSoup\n",
    "\n",
    "import pandas as pd\n",
    "import numpy as np\n",
    "\n",
    "import warnings\n",
    "warnings.filterwarnings('ignore')\n",
    "\n",
    "import html5lib"
   ]
  },
  {
   "cell_type": "code",
   "execution_count": 14,
   "id": "453513dd",
   "metadata": {},
   "outputs": [],
   "source": [
    "url = requests.get(\"https://www.cnbc.com/search/?query=news&qsearchterm=news\")\n",
    "soup = BeautifulSoup(url.content,'html.parser')"
   ]
  },
  {
   "cell_type": "code",
   "execution_count": 16,
   "id": "9363bbbd",
   "metadata": {},
   "outputs": [
    {
     "name": "stdout",
     "output_type": "stream",
     "text": [
      "[]\n"
     ]
    }
   ],
   "source": [
    "headline=[]\n",
    "\n",
    "for i in soup.findAll('a',class_=\"resultlink\"):\n",
    "    headline.append(i.get())\n",
    "\n",
    "print (headline)"
   ]
  },
  {
   "cell_type": "code",
   "execution_count": null,
   "id": "5fb2cfb6",
   "metadata": {},
   "outputs": [],
   "source": []
  }
 ],
 "metadata": {
  "kernelspec": {
   "display_name": "Python 3 (ipykernel)",
   "language": "python",
   "name": "python3"
  },
  "language_info": {
   "codemirror_mode": {
    "name": "ipython",
    "version": 3
   },
   "file_extension": ".py",
   "mimetype": "text/x-python",
   "name": "python",
   "nbconvert_exporter": "python",
   "pygments_lexer": "ipython3",
   "version": "3.9.12"
  }
 },
 "nbformat": 4,
 "nbformat_minor": 5
}
