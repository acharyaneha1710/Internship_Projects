{
 "cells": [
  {
   "cell_type": "markdown",
   "id": "2372e11c",
   "metadata": {},
   "source": [
    "# 2)\tWrite a python program to display IMDB’s Top rated 100 movies’ data (i.e. name, rating, year of release) and make data frame."
   ]
  },
  {
   "cell_type": "code",
   "execution_count": 1,
   "id": "b1cb03aa",
   "metadata": {},
   "outputs": [],
   "source": [
    "import requests\n",
    "from bs4 import BeautifulSoup"
   ]
  },
  {
   "cell_type": "code",
   "execution_count": 2,
   "id": "fe0754cb",
   "metadata": {},
   "outputs": [
    {
     "data": {
      "text/plain": [
       "<Response [200]>"
      ]
     },
     "execution_count": 2,
     "metadata": {},
     "output_type": "execute_result"
    }
   ],
   "source": [
    "url = requests.get(\"https://www.imdb.com/chart/top/?ref_=nv_mv_250\")\n",
    "url"
   ]
  },
  {
   "cell_type": "code",
   "execution_count": 3,
   "id": "bd4098e7",
   "metadata": {},
   "outputs": [],
   "source": [
    "soup= BeautifulSoup(url.content)\n",
    "#soup"
   ]
  },
  {
   "cell_type": "code",
   "execution_count": 4,
   "id": "75e38739",
   "metadata": {},
   "outputs": [
    {
     "name": "stderr",
     "output_type": "stream",
     "text": [
      "C:\\Users\\NEHA DESAI\\AppData\\Local\\Temp\\ipykernel_17848\\95841281.py:9: VisibleDeprecationWarning: Creating an ndarray from ragged nested sequences (which is a list-or-tuple of lists-or-tuples-or ndarrays with different lengths or shapes) is deprecated. If you meant to do this, you must specify 'dtype=object' when creating the ndarray.\n",
      "  name1 = np.array (movie_name)\n"
     ]
    }
   ],
   "source": [
    "import pandas as pd\n",
    "import numpy as np\n",
    "\n",
    "movie_name=[]\n",
    "\n",
    "for i in soup.find_all('td',class_='titleColumn'):\n",
    "    movie_name.append(i.text.split()) \n",
    "\n",
    "name1 = np.array (movie_name)\n",
    "for i in name1:\n",
    "    del i[0]\n",
    "    name2 = name1\n",
    "    \n",
    "for j in name2:\n",
    "    del j[-1]\n",
    "    name = name2\n",
    "\n",
    "top_movie=[]\n",
    "for ele in range(len(name2)):\n",
    "    top_movie.append(' '.join(name2[ele]))\n",
    "\n",
    "#print(top_movie)"
   ]
  },
  {
   "cell_type": "code",
   "execution_count": 5,
   "id": "49de2d50",
   "metadata": {},
   "outputs": [],
   "source": [
    "movie_rating=[]\n",
    "for i in soup.find_all('td',class_='ratingColumn imdbRating'):\n",
    "    movie_rating.append(i.text.split()) \n",
    "\n",
    "#movie_rating"
   ]
  },
  {
   "cell_type": "code",
   "execution_count": 6,
   "id": "f135a3bd",
   "metadata": {},
   "outputs": [],
   "source": [
    "movie_year=[]\n",
    "\n",
    "for i in soup.find_all('td',class_='titleColumn'):\n",
    "    movie_year.append(i.text.split()) \n",
    "\n",
    "year=[]\n",
    "#year = np.array (movie_year)\n",
    "for i in movie_year:\n",
    "    year.append(i[-1])\n",
    "\n",
    "#print(year)\n",
    "    "
   ]
  },
  {
   "cell_type": "code",
   "execution_count": 7,
   "id": "e2fb61c0",
   "metadata": {},
   "outputs": [
    {
     "name": "stdout",
     "output_type": "stream",
     "text": [
      "100 100 100\n"
     ]
    }
   ],
   "source": [
    "#Top rated 100 movies\n",
    "print (len(top_movie[0:100]),len(year[0:100]),len(movie_rating[0:100]))"
   ]
  },
  {
   "cell_type": "code",
   "execution_count": 8,
   "id": "7f1f626f",
   "metadata": {},
   "outputs": [
    {
     "data": {
      "text/html": [
       "<div>\n",
       "<style scoped>\n",
       "    .dataframe tbody tr th:only-of-type {\n",
       "        vertical-align: middle;\n",
       "    }\n",
       "\n",
       "    .dataframe tbody tr th {\n",
       "        vertical-align: top;\n",
       "    }\n",
       "\n",
       "    .dataframe thead th {\n",
       "        text-align: right;\n",
       "    }\n",
       "</style>\n",
       "<table border=\"1\" class=\"dataframe\">\n",
       "  <thead>\n",
       "    <tr style=\"text-align: right;\">\n",
       "      <th></th>\n",
       "      <th>Top_Movie</th>\n",
       "      <th>Movie_Rating</th>\n",
       "      <th>Release_Year</th>\n",
       "    </tr>\n",
       "  </thead>\n",
       "  <tbody>\n",
       "    <tr>\n",
       "      <th>0</th>\n",
       "      <td>The Shawshank Redemption</td>\n",
       "      <td>[9.2]</td>\n",
       "      <td>(1994)</td>\n",
       "    </tr>\n",
       "    <tr>\n",
       "      <th>1</th>\n",
       "      <td>The Godfather</td>\n",
       "      <td>[9.2]</td>\n",
       "      <td>(1972)</td>\n",
       "    </tr>\n",
       "    <tr>\n",
       "      <th>2</th>\n",
       "      <td>The Dark Knight</td>\n",
       "      <td>[9.0]</td>\n",
       "      <td>(2008)</td>\n",
       "    </tr>\n",
       "    <tr>\n",
       "      <th>3</th>\n",
       "      <td>The Godfather Part II</td>\n",
       "      <td>[9.0]</td>\n",
       "      <td>(1974)</td>\n",
       "    </tr>\n",
       "    <tr>\n",
       "      <th>4</th>\n",
       "      <td>12 Angry Men</td>\n",
       "      <td>[9.0]</td>\n",
       "      <td>(1957)</td>\n",
       "    </tr>\n",
       "    <tr>\n",
       "      <th>...</th>\n",
       "      <td>...</td>\n",
       "      <td>...</td>\n",
       "      <td>...</td>\n",
       "    </tr>\n",
       "    <tr>\n",
       "      <th>95</th>\n",
       "      <td>Citizen Kane</td>\n",
       "      <td>[8.3]</td>\n",
       "      <td>(1941)</td>\n",
       "    </tr>\n",
       "    <tr>\n",
       "      <th>96</th>\n",
       "      <td>Lawrence of Arabia</td>\n",
       "      <td>[8.3]</td>\n",
       "      <td>(1962)</td>\n",
       "    </tr>\n",
       "    <tr>\n",
       "      <th>97</th>\n",
       "      <td>M - Eine Stadt sucht einen Mörder</td>\n",
       "      <td>[8.3]</td>\n",
       "      <td>(1931)</td>\n",
       "    </tr>\n",
       "    <tr>\n",
       "      <th>98</th>\n",
       "      <td>North by Northwest</td>\n",
       "      <td>[8.2]</td>\n",
       "      <td>(1959)</td>\n",
       "    </tr>\n",
       "    <tr>\n",
       "      <th>99</th>\n",
       "      <td>Vertigo</td>\n",
       "      <td>[8.2]</td>\n",
       "      <td>(1958)</td>\n",
       "    </tr>\n",
       "  </tbody>\n",
       "</table>\n",
       "<p>100 rows × 3 columns</p>\n",
       "</div>"
      ],
      "text/plain": [
       "                            Top_Movie Movie_Rating Release_Year\n",
       "0            The Shawshank Redemption        [9.2]       (1994)\n",
       "1                       The Godfather        [9.2]       (1972)\n",
       "2                     The Dark Knight        [9.0]       (2008)\n",
       "3               The Godfather Part II        [9.0]       (1974)\n",
       "4                        12 Angry Men        [9.0]       (1957)\n",
       "..                                ...          ...          ...\n",
       "95                       Citizen Kane        [8.3]       (1941)\n",
       "96                 Lawrence of Arabia        [8.3]       (1962)\n",
       "97  M - Eine Stadt sucht einen Mörder        [8.3]       (1931)\n",
       "98                 North by Northwest        [8.2]       (1959)\n",
       "99                            Vertigo        [8.2]       (1958)\n",
       "\n",
       "[100 rows x 3 columns]"
      ]
     },
     "execution_count": 8,
     "metadata": {},
     "output_type": "execute_result"
    }
   ],
   "source": [
    "Top_100_Movie_df = pd.DataFrame({'Top_Movie' : top_movie[0:100], 'Movie_Rating' : movie_rating[0:100], 'Release_Year' : year[0:100]})\n",
    "Top_100_Movie_df"
   ]
  },
  {
   "cell_type": "code",
   "execution_count": null,
   "id": "d19deb94",
   "metadata": {},
   "outputs": [],
   "source": []
  },
  {
   "cell_type": "code",
   "execution_count": null,
   "id": "728c6e41",
   "metadata": {},
   "outputs": [],
   "source": []
  }
 ],
 "metadata": {
  "kernelspec": {
   "display_name": "Python 3 (ipykernel)",
   "language": "python",
   "name": "python3"
  },
  "language_info": {
   "codemirror_mode": {
    "name": "ipython",
    "version": 3
   },
   "file_extension": ".py",
   "mimetype": "text/x-python",
   "name": "python",
   "nbconvert_exporter": "python",
   "pygments_lexer": "ipython3",
   "version": "3.9.12"
  }
 },
 "nbformat": 4,
 "nbformat_minor": 5
}
