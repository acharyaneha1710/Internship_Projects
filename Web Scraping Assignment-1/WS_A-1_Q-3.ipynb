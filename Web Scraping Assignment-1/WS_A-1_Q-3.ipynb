{
 "cells": [
  {
   "cell_type": "markdown",
   "id": "cb73d35a",
   "metadata": {},
   "source": [
    "# 3)\tWrite a python program to display IMDB’s Top rated 100 Indian movies’ data (i.e. name, rating, year of release) and make data frame."
   ]
  },
  {
   "cell_type": "code",
   "execution_count": 1,
   "id": "605f5912",
   "metadata": {},
   "outputs": [],
   "source": [
    "import requests\n",
    "from bs4 import BeautifulSoup"
   ]
  },
  {
   "cell_type": "code",
   "execution_count": 2,
   "id": "7b04afc7",
   "metadata": {},
   "outputs": [],
   "source": [
    "url = requests.get ('https://www.imdb.com/india/top-rated-indian-movies/')"
   ]
  },
  {
   "cell_type": "code",
   "execution_count": 3,
   "id": "132b71eb",
   "metadata": {},
   "outputs": [],
   "source": [
    "soup = BeautifulSoup(url.content)"
   ]
  },
  {
   "cell_type": "code",
   "execution_count": 4,
   "id": "d430c2fe",
   "metadata": {},
   "outputs": [
    {
     "name": "stderr",
     "output_type": "stream",
     "text": [
      "C:\\Users\\NEHA DESAI\\AppData\\Local\\Temp\\ipykernel_1796\\1794175691.py:9: VisibleDeprecationWarning: Creating an ndarray from ragged nested sequences (which is a list-or-tuple of lists-or-tuples-or ndarrays with different lengths or shapes) is deprecated. If you meant to do this, you must specify 'dtype=object' when creating the ndarray.\n",
      "  name1 =np.array(movie_name)\n"
     ]
    }
   ],
   "source": [
    "import pandas as pd\n",
    "import numpy as np\n",
    "\n",
    "movie_name=[]\n",
    "\n",
    "for i in soup.find_all('td',class_='titleColumn'):\n",
    "    movie_name.append(i.text.split())\n",
    "    \n",
    "name1 =np.array(movie_name)\n",
    "for i in name1:\n",
    "    del i[0]\n",
    "\n",
    "for i in name1:\n",
    "    del i[-1]\n",
    "\n",
    "top_indian_movie = []    \n",
    "for j in range (len (name1)):\n",
    "    top_indian_movie.append(' '.join(name1[j]).split(','))\n",
    "    \n",
    "#print(top_indian_movie)"
   ]
  },
  {
   "cell_type": "code",
   "execution_count": 5,
   "id": "e69a68ee",
   "metadata": {},
   "outputs": [],
   "source": [
    "movie_rating=[]\n",
    "for i in soup.find_all('td',class_='ratingColumn imdbRating'):\n",
    "    movie_rating.append(i.text.split()) \n",
    "\n",
    "#movie_rating"
   ]
  },
  {
   "cell_type": "code",
   "execution_count": 6,
   "id": "cc19b30a",
   "metadata": {},
   "outputs": [],
   "source": [
    "movie_year=[]\n",
    "\n",
    "for i in soup.find_all('td',class_='titleColumn'):\n",
    "    movie_year.append(i.text.split()) \n",
    "\n",
    "year=[]\n",
    "for i in movie_year:\n",
    "    year.append(i[-1])\n",
    "\n",
    "#year"
   ]
  },
  {
   "cell_type": "code",
   "execution_count": 7,
   "id": "91a5eb38",
   "metadata": {},
   "outputs": [
    {
     "name": "stdout",
     "output_type": "stream",
     "text": [
      "100 100 100\n"
     ]
    }
   ],
   "source": [
    "print (len(top_indian_movie[0:100]),len(year[0:100]),len(movie_rating[0:100]))"
   ]
  },
  {
   "cell_type": "code",
   "execution_count": 8,
   "id": "eaf85e60",
   "metadata": {},
   "outputs": [
    {
     "data": {
      "text/html": [
       "<div>\n",
       "<style scoped>\n",
       "    .dataframe tbody tr th:only-of-type {\n",
       "        vertical-align: middle;\n",
       "    }\n",
       "\n",
       "    .dataframe tbody tr th {\n",
       "        vertical-align: top;\n",
       "    }\n",
       "\n",
       "    .dataframe thead th {\n",
       "        text-align: right;\n",
       "    }\n",
       "</style>\n",
       "<table border=\"1\" class=\"dataframe\">\n",
       "  <thead>\n",
       "    <tr style=\"text-align: right;\">\n",
       "      <th></th>\n",
       "      <th>Top_100_Indian_Movie</th>\n",
       "      <th>Movie_Rating</th>\n",
       "      <th>Release_Year</th>\n",
       "    </tr>\n",
       "  </thead>\n",
       "  <tbody>\n",
       "    <tr>\n",
       "      <th>0</th>\n",
       "      <td>[Ramayana: The Legend of Prince Rama]</td>\n",
       "      <td>[8.5]</td>\n",
       "      <td>(1993)</td>\n",
       "    </tr>\n",
       "    <tr>\n",
       "      <th>1</th>\n",
       "      <td>[Rocketry: The Nambi Effect]</td>\n",
       "      <td>[8.4]</td>\n",
       "      <td>(2022)</td>\n",
       "    </tr>\n",
       "    <tr>\n",
       "      <th>2</th>\n",
       "      <td>[Golmaal]</td>\n",
       "      <td>[8.4]</td>\n",
       "      <td>(1979)</td>\n",
       "    </tr>\n",
       "    <tr>\n",
       "      <th>3</th>\n",
       "      <td>[Nayakan]</td>\n",
       "      <td>[8.4]</td>\n",
       "      <td>(1987)</td>\n",
       "    </tr>\n",
       "    <tr>\n",
       "      <th>4</th>\n",
       "      <td>[Anbe Sivam]</td>\n",
       "      <td>[8.4]</td>\n",
       "      <td>(2003)</td>\n",
       "    </tr>\n",
       "    <tr>\n",
       "      <th>...</th>\n",
       "      <td>...</td>\n",
       "      <td>...</td>\n",
       "      <td>...</td>\n",
       "    </tr>\n",
       "    <tr>\n",
       "      <th>95</th>\n",
       "      <td>[Jigarthanda]</td>\n",
       "      <td>[8.0]</td>\n",
       "      <td>(2014)</td>\n",
       "    </tr>\n",
       "    <tr>\n",
       "      <th>96</th>\n",
       "      <td>[Kaakkaa Muttai]</td>\n",
       "      <td>[8.0]</td>\n",
       "      <td>(2014)</td>\n",
       "    </tr>\n",
       "    <tr>\n",
       "      <th>97</th>\n",
       "      <td>[Ustad Hotel]</td>\n",
       "      <td>[8.0]</td>\n",
       "      <td>(2012)</td>\n",
       "    </tr>\n",
       "    <tr>\n",
       "      <th>98</th>\n",
       "      <td>[Theeran Adhigaaram Ondru]</td>\n",
       "      <td>[8.0]</td>\n",
       "      <td>(2017)</td>\n",
       "    </tr>\n",
       "    <tr>\n",
       "      <th>99</th>\n",
       "      <td>[Baahubali 2: The Conclusion]</td>\n",
       "      <td>[8.0]</td>\n",
       "      <td>(2017)</td>\n",
       "    </tr>\n",
       "  </tbody>\n",
       "</table>\n",
       "<p>100 rows × 3 columns</p>\n",
       "</div>"
      ],
      "text/plain": [
       "                     Top_100_Indian_Movie Movie_Rating Release_Year\n",
       "0   [Ramayana: The Legend of Prince Rama]        [8.5]       (1993)\n",
       "1            [Rocketry: The Nambi Effect]        [8.4]       (2022)\n",
       "2                               [Golmaal]        [8.4]       (1979)\n",
       "3                               [Nayakan]        [8.4]       (1987)\n",
       "4                            [Anbe Sivam]        [8.4]       (2003)\n",
       "..                                    ...          ...          ...\n",
       "95                          [Jigarthanda]        [8.0]       (2014)\n",
       "96                       [Kaakkaa Muttai]        [8.0]       (2014)\n",
       "97                          [Ustad Hotel]        [8.0]       (2012)\n",
       "98             [Theeran Adhigaaram Ondru]        [8.0]       (2017)\n",
       "99          [Baahubali 2: The Conclusion]        [8.0]       (2017)\n",
       "\n",
       "[100 rows x 3 columns]"
      ]
     },
     "execution_count": 8,
     "metadata": {},
     "output_type": "execute_result"
    }
   ],
   "source": [
    "#Top rated 100 movies\n",
    "Top_100_indian_Movie_df = pd.DataFrame({'Top_100_Indian_Movie' : top_indian_movie[0:100], 'Movie_Rating' : movie_rating[0:100], 'Release_Year' : year[0:100]})\n",
    "Top_100_indian_Movie_df"
   ]
  },
  {
   "cell_type": "code",
   "execution_count": null,
   "id": "b8bef61f",
   "metadata": {},
   "outputs": [],
   "source": []
  }
 ],
 "metadata": {
  "kernelspec": {
   "display_name": "Python 3 (ipykernel)",
   "language": "python",
   "name": "python3"
  },
  "language_info": {
   "codemirror_mode": {
    "name": "ipython",
    "version": 3
   },
   "file_extension": ".py",
   "mimetype": "text/x-python",
   "name": "python",
   "nbconvert_exporter": "python",
   "pygments_lexer": "ipython3",
   "version": "3.9.12"
  }
 },
 "nbformat": 4,
 "nbformat_minor": 5
}
